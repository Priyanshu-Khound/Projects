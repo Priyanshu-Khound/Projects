{
 "cells": [
  {
   "cell_type": "markdown",
   "id": "27ae41ad",
   "metadata": {},
   "source": [
    "# Summer Analytics 2021 Capstone Project"
   ]
  },
  {
   "cell_type": "code",
   "execution_count": 1,
   "id": "df2576b7",
   "metadata": {},
   "outputs": [],
   "source": [
    "import pandas as pd\n",
    "import numpy as np\n",
    "import matplotlib.pyplot as plt\n",
    "import seaborn as sns"
   ]
  },
  {
   "cell_type": "code",
   "execution_count": 40,
   "id": "36a4d490",
   "metadata": {},
   "outputs": [],
   "source": [
    "data=pd.read_csv(\"Train_Data.csv\")"
   ]
  },
  {
   "cell_type": "code",
   "execution_count": 41,
   "id": "ee5e7d21",
   "metadata": {},
   "outputs": [
    {
     "data": {
      "text/html": [
       "<div>\n",
       "<style scoped>\n",
       "    .dataframe tbody tr th:only-of-type {\n",
       "        vertical-align: middle;\n",
       "    }\n",
       "\n",
       "    .dataframe tbody tr th {\n",
       "        vertical-align: top;\n",
       "    }\n",
       "\n",
       "    .dataframe thead th {\n",
       "        text-align: right;\n",
       "    }\n",
       "</style>\n",
       "<table border=\"1\" class=\"dataframe\">\n",
       "  <thead>\n",
       "    <tr style=\"text-align: right;\">\n",
       "      <th></th>\n",
       "      <th>date</th>\n",
       "      <th>campaign</th>\n",
       "      <th>adgroup</th>\n",
       "      <th>ad</th>\n",
       "      <th>impressions</th>\n",
       "      <th>clicks</th>\n",
       "      <th>cost</th>\n",
       "      <th>conversions</th>\n",
       "      <th>revenue</th>\n",
       "    </tr>\n",
       "  </thead>\n",
       "  <tbody>\n",
       "    <tr>\n",
       "      <th>0</th>\n",
       "      <td>01-08-2020</td>\n",
       "      <td>campaign 1</td>\n",
       "      <td>adgroup 1</td>\n",
       "      <td>ad 1</td>\n",
       "      <td>24</td>\n",
       "      <td>6</td>\n",
       "      <td>0.08</td>\n",
       "      <td>0</td>\n",
       "      <td>0.00</td>\n",
       "    </tr>\n",
       "    <tr>\n",
       "      <th>1</th>\n",
       "      <td>01-08-2020</td>\n",
       "      <td>campaign 1</td>\n",
       "      <td>adgroup 2</td>\n",
       "      <td>ad 1</td>\n",
       "      <td>1</td>\n",
       "      <td>0</td>\n",
       "      <td>0.00</td>\n",
       "      <td>0</td>\n",
       "      <td>0.00</td>\n",
       "    </tr>\n",
       "    <tr>\n",
       "      <th>2</th>\n",
       "      <td>01-08-2020</td>\n",
       "      <td>campaign 1</td>\n",
       "      <td>adgroup 3</td>\n",
       "      <td>ad 1</td>\n",
       "      <td>13</td>\n",
       "      <td>4</td>\n",
       "      <td>0.04</td>\n",
       "      <td>0</td>\n",
       "      <td>0.00</td>\n",
       "    </tr>\n",
       "    <tr>\n",
       "      <th>3</th>\n",
       "      <td>01-08-2020</td>\n",
       "      <td>campaign 1</td>\n",
       "      <td>adgroup 4</td>\n",
       "      <td>ad 1</td>\n",
       "      <td>5</td>\n",
       "      <td>4</td>\n",
       "      <td>0.08</td>\n",
       "      <td>0</td>\n",
       "      <td>0.00</td>\n",
       "    </tr>\n",
       "    <tr>\n",
       "      <th>4</th>\n",
       "      <td>01-08-2020</td>\n",
       "      <td>campaign 1</td>\n",
       "      <td>adgroup 1</td>\n",
       "      <td>ad 2</td>\n",
       "      <td>247</td>\n",
       "      <td>126</td>\n",
       "      <td>1.29</td>\n",
       "      <td>4</td>\n",
       "      <td>925.71</td>\n",
       "    </tr>\n",
       "    <tr>\n",
       "      <th>...</th>\n",
       "      <td>...</td>\n",
       "      <td>...</td>\n",
       "      <td>...</td>\n",
       "      <td>...</td>\n",
       "      <td>...</td>\n",
       "      <td>...</td>\n",
       "      <td>...</td>\n",
       "      <td>...</td>\n",
       "      <td>...</td>\n",
       "    </tr>\n",
       "    <tr>\n",
       "      <th>4566</th>\n",
       "      <td>28-02-2021</td>\n",
       "      <td>campaign 1</td>\n",
       "      <td>adgroup 3</td>\n",
       "      <td>ad 55</td>\n",
       "      <td>19</td>\n",
       "      <td>6</td>\n",
       "      <td>0.07</td>\n",
       "      <td>0</td>\n",
       "      <td>0.00</td>\n",
       "    </tr>\n",
       "    <tr>\n",
       "      <th>4567</th>\n",
       "      <td>28-02-2021</td>\n",
       "      <td>campaign 1</td>\n",
       "      <td>adgroup 4</td>\n",
       "      <td>ad 55</td>\n",
       "      <td>1</td>\n",
       "      <td>0</td>\n",
       "      <td>0.00</td>\n",
       "      <td>0</td>\n",
       "      <td>0.00</td>\n",
       "    </tr>\n",
       "    <tr>\n",
       "      <th>4568</th>\n",
       "      <td>28-02-2021</td>\n",
       "      <td>campaign 1</td>\n",
       "      <td>adgroup 3</td>\n",
       "      <td>ad 56</td>\n",
       "      <td>16</td>\n",
       "      <td>8</td>\n",
       "      <td>0.12</td>\n",
       "      <td>1</td>\n",
       "      <td>93.20</td>\n",
       "    </tr>\n",
       "    <tr>\n",
       "      <th>4569</th>\n",
       "      <td>28-02-2021</td>\n",
       "      <td>campaign 1</td>\n",
       "      <td>adgroup 1</td>\n",
       "      <td>ad 56</td>\n",
       "      <td>37</td>\n",
       "      <td>13</td>\n",
       "      <td>0.23</td>\n",
       "      <td>0</td>\n",
       "      <td>0.00</td>\n",
       "    </tr>\n",
       "    <tr>\n",
       "      <th>4570</th>\n",
       "      <td>28-02-2021</td>\n",
       "      <td>campaign 1</td>\n",
       "      <td>adgroup 1</td>\n",
       "      <td>ad 55</td>\n",
       "      <td>19</td>\n",
       "      <td>10</td>\n",
       "      <td>0.14</td>\n",
       "      <td>0</td>\n",
       "      <td>0.00</td>\n",
       "    </tr>\n",
       "  </tbody>\n",
       "</table>\n",
       "<p>4571 rows × 9 columns</p>\n",
       "</div>"
      ],
      "text/plain": [
       "            date    campaign    adgroup     ad  impressions  clicks  cost  \\\n",
       "0     01-08-2020  campaign 1  adgroup 1   ad 1           24       6  0.08   \n",
       "1     01-08-2020  campaign 1  adgroup 2   ad 1            1       0  0.00   \n",
       "2     01-08-2020  campaign 1  adgroup 3   ad 1           13       4  0.04   \n",
       "3     01-08-2020  campaign 1  adgroup 4   ad 1            5       4  0.08   \n",
       "4     01-08-2020  campaign 1  adgroup 1   ad 2          247     126  1.29   \n",
       "...          ...         ...        ...    ...          ...     ...   ...   \n",
       "4566  28-02-2021  campaign 1  adgroup 3  ad 55           19       6  0.07   \n",
       "4567  28-02-2021  campaign 1  adgroup 4  ad 55            1       0  0.00   \n",
       "4568  28-02-2021  campaign 1  adgroup 3  ad 56           16       8  0.12   \n",
       "4569  28-02-2021  campaign 1  adgroup 1  ad 56           37      13  0.23   \n",
       "4570  28-02-2021  campaign 1  adgroup 1  ad 55           19      10  0.14   \n",
       "\n",
       "      conversions  revenue  \n",
       "0               0     0.00  \n",
       "1               0     0.00  \n",
       "2               0     0.00  \n",
       "3               0     0.00  \n",
       "4               4   925.71  \n",
       "...           ...      ...  \n",
       "4566            0     0.00  \n",
       "4567            0     0.00  \n",
       "4568            1    93.20  \n",
       "4569            0     0.00  \n",
       "4570            0     0.00  \n",
       "\n",
       "[4571 rows x 9 columns]"
      ]
     },
     "execution_count": 41,
     "metadata": {},
     "output_type": "execute_result"
    }
   ],
   "source": [
    "data"
   ]
  },
  {
   "cell_type": "code",
   "execution_count": 42,
   "id": "7a572a71",
   "metadata": {},
   "outputs": [],
   "source": [
    "data=data.drop(['date','campaign'],axis=1)"
   ]
  },
  {
   "cell_type": "code",
   "execution_count": 43,
   "id": "cf4fc029",
   "metadata": {},
   "outputs": [
    {
     "data": {
      "text/html": [
       "<div>\n",
       "<style scoped>\n",
       "    .dataframe tbody tr th:only-of-type {\n",
       "        vertical-align: middle;\n",
       "    }\n",
       "\n",
       "    .dataframe tbody tr th {\n",
       "        vertical-align: top;\n",
       "    }\n",
       "\n",
       "    .dataframe thead th {\n",
       "        text-align: right;\n",
       "    }\n",
       "</style>\n",
       "<table border=\"1\" class=\"dataframe\">\n",
       "  <thead>\n",
       "    <tr style=\"text-align: right;\">\n",
       "      <th></th>\n",
       "      <th>adgroup</th>\n",
       "      <th>ad</th>\n",
       "      <th>impressions</th>\n",
       "      <th>clicks</th>\n",
       "      <th>cost</th>\n",
       "      <th>conversions</th>\n",
       "      <th>revenue</th>\n",
       "    </tr>\n",
       "  </thead>\n",
       "  <tbody>\n",
       "    <tr>\n",
       "      <th>0</th>\n",
       "      <td>adgroup 1</td>\n",
       "      <td>ad 1</td>\n",
       "      <td>24</td>\n",
       "      <td>6</td>\n",
       "      <td>0.08</td>\n",
       "      <td>0</td>\n",
       "      <td>0.00</td>\n",
       "    </tr>\n",
       "    <tr>\n",
       "      <th>1</th>\n",
       "      <td>adgroup 2</td>\n",
       "      <td>ad 1</td>\n",
       "      <td>1</td>\n",
       "      <td>0</td>\n",
       "      <td>0.00</td>\n",
       "      <td>0</td>\n",
       "      <td>0.00</td>\n",
       "    </tr>\n",
       "    <tr>\n",
       "      <th>2</th>\n",
       "      <td>adgroup 3</td>\n",
       "      <td>ad 1</td>\n",
       "      <td>13</td>\n",
       "      <td>4</td>\n",
       "      <td>0.04</td>\n",
       "      <td>0</td>\n",
       "      <td>0.00</td>\n",
       "    </tr>\n",
       "    <tr>\n",
       "      <th>3</th>\n",
       "      <td>adgroup 4</td>\n",
       "      <td>ad 1</td>\n",
       "      <td>5</td>\n",
       "      <td>4</td>\n",
       "      <td>0.08</td>\n",
       "      <td>0</td>\n",
       "      <td>0.00</td>\n",
       "    </tr>\n",
       "    <tr>\n",
       "      <th>4</th>\n",
       "      <td>adgroup 1</td>\n",
       "      <td>ad 2</td>\n",
       "      <td>247</td>\n",
       "      <td>126</td>\n",
       "      <td>1.29</td>\n",
       "      <td>4</td>\n",
       "      <td>925.71</td>\n",
       "    </tr>\n",
       "  </tbody>\n",
       "</table>\n",
       "</div>"
      ],
      "text/plain": [
       "     adgroup    ad  impressions  clicks  cost  conversions  revenue\n",
       "0  adgroup 1  ad 1           24       6  0.08            0     0.00\n",
       "1  adgroup 2  ad 1            1       0  0.00            0     0.00\n",
       "2  adgroup 3  ad 1           13       4  0.04            0     0.00\n",
       "3  adgroup 4  ad 1            5       4  0.08            0     0.00\n",
       "4  adgroup 1  ad 2          247     126  1.29            4   925.71"
      ]
     },
     "execution_count": 43,
     "metadata": {},
     "output_type": "execute_result"
    }
   ],
   "source": [
    "data.head()"
   ]
  },
  {
   "cell_type": "code",
   "execution_count": 44,
   "id": "7cb71e27",
   "metadata": {},
   "outputs": [
    {
     "data": {
      "text/html": [
       "<div>\n",
       "<style scoped>\n",
       "    .dataframe tbody tr th:only-of-type {\n",
       "        vertical-align: middle;\n",
       "    }\n",
       "\n",
       "    .dataframe tbody tr th {\n",
       "        vertical-align: top;\n",
       "    }\n",
       "\n",
       "    .dataframe thead th {\n",
       "        text-align: right;\n",
       "    }\n",
       "</style>\n",
       "<table border=\"1\" class=\"dataframe\">\n",
       "  <thead>\n",
       "    <tr style=\"text-align: right;\">\n",
       "      <th></th>\n",
       "      <th>impressions</th>\n",
       "      <th>clicks</th>\n",
       "      <th>cost</th>\n",
       "      <th>conversions</th>\n",
       "      <th>revenue</th>\n",
       "    </tr>\n",
       "  </thead>\n",
       "  <tbody>\n",
       "    <tr>\n",
       "      <th>count</th>\n",
       "      <td>4571.000000</td>\n",
       "      <td>4571.000000</td>\n",
       "      <td>4571.000000</td>\n",
       "      <td>4571.000000</td>\n",
       "      <td>4571.000000</td>\n",
       "    </tr>\n",
       "    <tr>\n",
       "      <th>mean</th>\n",
       "      <td>92.635747</td>\n",
       "      <td>43.340844</td>\n",
       "      <td>2.800834</td>\n",
       "      <td>1.339094</td>\n",
       "      <td>231.865340</td>\n",
       "    </tr>\n",
       "    <tr>\n",
       "      <th>std</th>\n",
       "      <td>198.349737</td>\n",
       "      <td>100.164913</td>\n",
       "      <td>14.361618</td>\n",
       "      <td>5.223922</td>\n",
       "      <td>1091.742763</td>\n",
       "    </tr>\n",
       "    <tr>\n",
       "      <th>min</th>\n",
       "      <td>1.000000</td>\n",
       "      <td>0.000000</td>\n",
       "      <td>0.000000</td>\n",
       "      <td>0.000000</td>\n",
       "      <td>0.000000</td>\n",
       "    </tr>\n",
       "    <tr>\n",
       "      <th>25%</th>\n",
       "      <td>6.000000</td>\n",
       "      <td>2.000000</td>\n",
       "      <td>0.040000</td>\n",
       "      <td>0.000000</td>\n",
       "      <td>0.000000</td>\n",
       "    </tr>\n",
       "    <tr>\n",
       "      <th>50%</th>\n",
       "      <td>16.000000</td>\n",
       "      <td>7.000000</td>\n",
       "      <td>0.210000</td>\n",
       "      <td>0.000000</td>\n",
       "      <td>0.000000</td>\n",
       "    </tr>\n",
       "    <tr>\n",
       "      <th>75%</th>\n",
       "      <td>84.000000</td>\n",
       "      <td>38.000000</td>\n",
       "      <td>1.350000</td>\n",
       "      <td>1.000000</td>\n",
       "      <td>92.600000</td>\n",
       "    </tr>\n",
       "    <tr>\n",
       "      <th>max</th>\n",
       "      <td>3239.000000</td>\n",
       "      <td>1771.000000</td>\n",
       "      <td>531.250000</td>\n",
       "      <td>94.000000</td>\n",
       "      <td>20515.410000</td>\n",
       "    </tr>\n",
       "  </tbody>\n",
       "</table>\n",
       "</div>"
      ],
      "text/plain": [
       "       impressions       clicks         cost  conversions       revenue\n",
       "count  4571.000000  4571.000000  4571.000000  4571.000000   4571.000000\n",
       "mean     92.635747    43.340844     2.800834     1.339094    231.865340\n",
       "std     198.349737   100.164913    14.361618     5.223922   1091.742763\n",
       "min       1.000000     0.000000     0.000000     0.000000      0.000000\n",
       "25%       6.000000     2.000000     0.040000     0.000000      0.000000\n",
       "50%      16.000000     7.000000     0.210000     0.000000      0.000000\n",
       "75%      84.000000    38.000000     1.350000     1.000000     92.600000\n",
       "max    3239.000000  1771.000000   531.250000    94.000000  20515.410000"
      ]
     },
     "execution_count": 44,
     "metadata": {},
     "output_type": "execute_result"
    }
   ],
   "source": [
    "data.describe()"
   ]
  },
  {
   "cell_type": "code",
   "execution_count": 45,
   "id": "a7cafdfc",
   "metadata": {},
   "outputs": [
    {
     "data": {
      "text/html": [
       "<div>\n",
       "<style scoped>\n",
       "    .dataframe tbody tr th:only-of-type {\n",
       "        vertical-align: middle;\n",
       "    }\n",
       "\n",
       "    .dataframe tbody tr th {\n",
       "        vertical-align: top;\n",
       "    }\n",
       "\n",
       "    .dataframe thead th {\n",
       "        text-align: right;\n",
       "    }\n",
       "</style>\n",
       "<table border=\"1\" class=\"dataframe\">\n",
       "  <thead>\n",
       "    <tr style=\"text-align: right;\">\n",
       "      <th></th>\n",
       "      <th>adgroup</th>\n",
       "      <th>ad</th>\n",
       "      <th>impressions</th>\n",
       "      <th>clicks</th>\n",
       "      <th>cost</th>\n",
       "      <th>conversions</th>\n",
       "      <th>revenue</th>\n",
       "    </tr>\n",
       "  </thead>\n",
       "  <tbody>\n",
       "    <tr>\n",
       "      <th>0</th>\n",
       "      <td>adgroup 1</td>\n",
       "      <td>ad 1</td>\n",
       "      <td>24</td>\n",
       "      <td>6</td>\n",
       "      <td>0.08</td>\n",
       "      <td>0</td>\n",
       "      <td>0.00</td>\n",
       "    </tr>\n",
       "    <tr>\n",
       "      <th>1</th>\n",
       "      <td>adgroup 2</td>\n",
       "      <td>ad 1</td>\n",
       "      <td>1</td>\n",
       "      <td>0</td>\n",
       "      <td>0.00</td>\n",
       "      <td>0</td>\n",
       "      <td>0.00</td>\n",
       "    </tr>\n",
       "    <tr>\n",
       "      <th>2</th>\n",
       "      <td>adgroup 3</td>\n",
       "      <td>ad 1</td>\n",
       "      <td>13</td>\n",
       "      <td>4</td>\n",
       "      <td>0.04</td>\n",
       "      <td>0</td>\n",
       "      <td>0.00</td>\n",
       "    </tr>\n",
       "    <tr>\n",
       "      <th>3</th>\n",
       "      <td>adgroup 4</td>\n",
       "      <td>ad 1</td>\n",
       "      <td>5</td>\n",
       "      <td>4</td>\n",
       "      <td>0.08</td>\n",
       "      <td>0</td>\n",
       "      <td>0.00</td>\n",
       "    </tr>\n",
       "    <tr>\n",
       "      <th>4</th>\n",
       "      <td>adgroup 1</td>\n",
       "      <td>ad 2</td>\n",
       "      <td>247</td>\n",
       "      <td>126</td>\n",
       "      <td>1.29</td>\n",
       "      <td>4</td>\n",
       "      <td>925.71</td>\n",
       "    </tr>\n",
       "    <tr>\n",
       "      <th>...</th>\n",
       "      <td>...</td>\n",
       "      <td>...</td>\n",
       "      <td>...</td>\n",
       "      <td>...</td>\n",
       "      <td>...</td>\n",
       "      <td>...</td>\n",
       "      <td>...</td>\n",
       "    </tr>\n",
       "    <tr>\n",
       "      <th>4566</th>\n",
       "      <td>adgroup 3</td>\n",
       "      <td>ad 55</td>\n",
       "      <td>19</td>\n",
       "      <td>6</td>\n",
       "      <td>0.07</td>\n",
       "      <td>0</td>\n",
       "      <td>0.00</td>\n",
       "    </tr>\n",
       "    <tr>\n",
       "      <th>4567</th>\n",
       "      <td>adgroup 4</td>\n",
       "      <td>ad 55</td>\n",
       "      <td>1</td>\n",
       "      <td>0</td>\n",
       "      <td>0.00</td>\n",
       "      <td>0</td>\n",
       "      <td>0.00</td>\n",
       "    </tr>\n",
       "    <tr>\n",
       "      <th>4568</th>\n",
       "      <td>adgroup 3</td>\n",
       "      <td>ad 56</td>\n",
       "      <td>16</td>\n",
       "      <td>8</td>\n",
       "      <td>0.12</td>\n",
       "      <td>1</td>\n",
       "      <td>93.20</td>\n",
       "    </tr>\n",
       "    <tr>\n",
       "      <th>4569</th>\n",
       "      <td>adgroup 1</td>\n",
       "      <td>ad 56</td>\n",
       "      <td>37</td>\n",
       "      <td>13</td>\n",
       "      <td>0.23</td>\n",
       "      <td>0</td>\n",
       "      <td>0.00</td>\n",
       "    </tr>\n",
       "    <tr>\n",
       "      <th>4570</th>\n",
       "      <td>adgroup 1</td>\n",
       "      <td>ad 55</td>\n",
       "      <td>19</td>\n",
       "      <td>10</td>\n",
       "      <td>0.14</td>\n",
       "      <td>0</td>\n",
       "      <td>0.00</td>\n",
       "    </tr>\n",
       "  </tbody>\n",
       "</table>\n",
       "<p>4571 rows × 7 columns</p>\n",
       "</div>"
      ],
      "text/plain": [
       "        adgroup     ad  impressions  clicks  cost  conversions  revenue\n",
       "0     adgroup 1   ad 1           24       6  0.08            0     0.00\n",
       "1     adgroup 2   ad 1            1       0  0.00            0     0.00\n",
       "2     adgroup 3   ad 1           13       4  0.04            0     0.00\n",
       "3     adgroup 4   ad 1            5       4  0.08            0     0.00\n",
       "4     adgroup 1   ad 2          247     126  1.29            4   925.71\n",
       "...         ...    ...          ...     ...   ...          ...      ...\n",
       "4566  adgroup 3  ad 55           19       6  0.07            0     0.00\n",
       "4567  adgroup 4  ad 55            1       0  0.00            0     0.00\n",
       "4568  adgroup 3  ad 56           16       8  0.12            1    93.20\n",
       "4569  adgroup 1  ad 56           37      13  0.23            0     0.00\n",
       "4570  adgroup 1  ad 55           19      10  0.14            0     0.00\n",
       "\n",
       "[4571 rows x 7 columns]"
      ]
     },
     "execution_count": 45,
     "metadata": {},
     "output_type": "execute_result"
    }
   ],
   "source": [
    "data"
   ]
  },
  {
   "cell_type": "code",
   "execution_count": 46,
   "id": "f9d483b6",
   "metadata": {},
   "outputs": [
    {
     "data": {
      "text/html": [
       "<div>\n",
       "<style scoped>\n",
       "    .dataframe tbody tr th:only-of-type {\n",
       "        vertical-align: middle;\n",
       "    }\n",
       "\n",
       "    .dataframe tbody tr th {\n",
       "        vertical-align: top;\n",
       "    }\n",
       "\n",
       "    .dataframe thead th {\n",
       "        text-align: right;\n",
       "    }\n",
       "</style>\n",
       "<table border=\"1\" class=\"dataframe\">\n",
       "  <thead>\n",
       "    <tr style=\"text-align: right;\">\n",
       "      <th></th>\n",
       "      <th>impressions</th>\n",
       "      <th>clicks</th>\n",
       "      <th>cost</th>\n",
       "      <th>conversions</th>\n",
       "      <th>revenue</th>\n",
       "    </tr>\n",
       "  </thead>\n",
       "  <tbody>\n",
       "    <tr>\n",
       "      <th>count</th>\n",
       "      <td>4571.000000</td>\n",
       "      <td>4571.000000</td>\n",
       "      <td>4571.000000</td>\n",
       "      <td>4571.000000</td>\n",
       "      <td>4571.000000</td>\n",
       "    </tr>\n",
       "    <tr>\n",
       "      <th>mean</th>\n",
       "      <td>92.635747</td>\n",
       "      <td>43.340844</td>\n",
       "      <td>2.800834</td>\n",
       "      <td>1.339094</td>\n",
       "      <td>231.865340</td>\n",
       "    </tr>\n",
       "    <tr>\n",
       "      <th>std</th>\n",
       "      <td>198.349737</td>\n",
       "      <td>100.164913</td>\n",
       "      <td>14.361618</td>\n",
       "      <td>5.223922</td>\n",
       "      <td>1091.742763</td>\n",
       "    </tr>\n",
       "    <tr>\n",
       "      <th>min</th>\n",
       "      <td>1.000000</td>\n",
       "      <td>0.000000</td>\n",
       "      <td>0.000000</td>\n",
       "      <td>0.000000</td>\n",
       "      <td>0.000000</td>\n",
       "    </tr>\n",
       "    <tr>\n",
       "      <th>25%</th>\n",
       "      <td>6.000000</td>\n",
       "      <td>2.000000</td>\n",
       "      <td>0.040000</td>\n",
       "      <td>0.000000</td>\n",
       "      <td>0.000000</td>\n",
       "    </tr>\n",
       "    <tr>\n",
       "      <th>50%</th>\n",
       "      <td>16.000000</td>\n",
       "      <td>7.000000</td>\n",
       "      <td>0.210000</td>\n",
       "      <td>0.000000</td>\n",
       "      <td>0.000000</td>\n",
       "    </tr>\n",
       "    <tr>\n",
       "      <th>75%</th>\n",
       "      <td>84.000000</td>\n",
       "      <td>38.000000</td>\n",
       "      <td>1.350000</td>\n",
       "      <td>1.000000</td>\n",
       "      <td>92.600000</td>\n",
       "    </tr>\n",
       "    <tr>\n",
       "      <th>max</th>\n",
       "      <td>3239.000000</td>\n",
       "      <td>1771.000000</td>\n",
       "      <td>531.250000</td>\n",
       "      <td>94.000000</td>\n",
       "      <td>20515.410000</td>\n",
       "    </tr>\n",
       "  </tbody>\n",
       "</table>\n",
       "</div>"
      ],
      "text/plain": [
       "       impressions       clicks         cost  conversions       revenue\n",
       "count  4571.000000  4571.000000  4571.000000  4571.000000   4571.000000\n",
       "mean     92.635747    43.340844     2.800834     1.339094    231.865340\n",
       "std     198.349737   100.164913    14.361618     5.223922   1091.742763\n",
       "min       1.000000     0.000000     0.000000     0.000000      0.000000\n",
       "25%       6.000000     2.000000     0.040000     0.000000      0.000000\n",
       "50%      16.000000     7.000000     0.210000     0.000000      0.000000\n",
       "75%      84.000000    38.000000     1.350000     1.000000     92.600000\n",
       "max    3239.000000  1771.000000   531.250000    94.000000  20515.410000"
      ]
     },
     "execution_count": 46,
     "metadata": {},
     "output_type": "execute_result"
    }
   ],
   "source": [
    "data.describe()"
   ]
  },
  {
   "cell_type": "markdown",
   "id": "9166a5be",
   "metadata": {},
   "source": [
    "#### Exploratory Data Analysis"
   ]
  },
  {
   "cell_type": "code",
   "execution_count": 47,
   "id": "b85dd193",
   "metadata": {},
   "outputs": [
    {
     "name": "stderr",
     "output_type": "stream",
     "text": [
      "F:\\softwares\\Anaconda\\lib\\site-packages\\seaborn\\_decorators.py:36: FutureWarning: Pass the following variables as keyword args: x, y. From version 0.12, the only valid positional argument will be `data`, and passing other arguments without an explicit keyword will result in an error or misinterpretation.\n",
      "  warnings.warn(\n"
     ]
    },
    {
     "data": {
      "text/plain": [
       "<AxesSubplot:xlabel='conversions', ylabel='revenue'>"
      ]
     },
     "execution_count": 47,
     "metadata": {},
     "output_type": "execute_result"
    },
    {
     "data": {
      "image/png": "[encoded data removed]",
      "text/plain": [
       "<Figure size 432x288 with 1 Axes>"
      ]
     },
     "metadata": {
      "needs_background": "light"
     },
     "output_type": "display_data"
    }
   ],
   "source": [
    "sns.scatterplot(data.conversions,data.revenue)"
   ]
  },
  {
   "cell_type": "code",
   "execution_count": 48,
   "id": "2e989157",
   "metadata": {},
   "outputs": [
    {
     "name": "stderr",
     "output_type": "stream",
     "text": [
      "F:\\softwares\\Anaconda\\lib\\site-packages\\seaborn\\_decorators.py:36: FutureWarning: Pass the following variables as keyword args: x, y. From version 0.12, the only valid positional argument will be `data`, and passing other arguments without an explicit keyword will result in an error or misinterpretation.\n",
      "  warnings.warn(\n"
     ]
    },
    {
     "data": {
      "text/plain": [
       "<AxesSubplot:xlabel='cost', ylabel='revenue'>"
      ]
     },
     "execution_count": 48,
     "metadata": {},
     "output_type": "execute_result"
    },
    {
     "data": {
      "image/png": "[encoded data removed]",
      "text/plain": [
       "<Figure size 432x288 with 1 Axes>"
      ]
     },
     "metadata": {
      "needs_background": "light"
     },
     "output_type": "display_data"
    }
   ],
   "source": [
    "sns.scatterplot(data.cost,data.revenue)"
   ]
  },
  {
   "cell_type": "code",
   "execution_count": 49,
   "id": "b8d7ea2e",
   "metadata": {},
   "outputs": [
    {
     "name": "stderr",
     "output_type": "stream",
     "text": [
      "F:\\softwares\\Anaconda\\lib\\site-packages\\seaborn\\_decorators.py:36: FutureWarning: Pass the following variables as keyword args: x, y. From version 0.12, the only valid positional argument will be `data`, and passing other arguments without an explicit keyword will result in an error or misinterpretation.\n",
      "  warnings.warn(\n"
     ]
    },
    {
     "data": {
      "text/plain": [
       "<AxesSubplot:xlabel='clicks', ylabel='revenue'>"
      ]
     },
     "execution_count": 49,
     "metadata": {},
     "output_type": "execute_result"
    },
    {
     "data": {
      "image/png": "[encoded data removed]",
      "text/plain": [
       "<Figure size 432x288 with 1 Axes>"
      ]
     },
     "metadata": {
      "needs_background": "light"
     },
     "output_type": "display_data"
    }
   ],
   "source": [
    "sns.scatterplot(data.clicks,data.revenue)"
   ]
  },
  {
   "cell_type": "code",
   "execution_count": 50,
   "id": "e37267e8",
   "metadata": {},
   "outputs": [
    {
     "name": "stderr",
     "output_type": "stream",
     "text": [
      "F:\\softwares\\Anaconda\\lib\\site-packages\\seaborn\\_decorators.py:36: FutureWarning: Pass the following variables as keyword args: x, y. From version 0.12, the only valid positional argument will be `data`, and passing other arguments without an explicit keyword will result in an error or misinterpretation.\n",
      "  warnings.warn(\n"
     ]
    },
    {
     "data": {
      "text/plain": [
       "<AxesSubplot:xlabel='impressions', ylabel='revenue'>"
      ]
     },
     "execution_count": 50,
     "metadata": {},
     "output_type": "execute_result"
    },
    {
     "data": {
      "image/png": "[encoded data removed]",
      "text/plain": [
       "<Figure size 432x288 with 1 Axes>"
      ]
     },
     "metadata": {
      "needs_background": "light"
     },
     "output_type": "display_data"
    }
   ],
   "source": [
    "sns.scatterplot(data.impressions,data.revenue)"
   ]
  },
  {
   "cell_type": "code",
   "execution_count": null,
   "id": "728786b8",
   "metadata": {},
   "outputs": [],
   "source": []
  },
  {
   "cell_type": "code",
   "execution_count": 51,
   "id": "21a3b3af",
   "metadata": {},
   "outputs": [
    {
     "data": {
      "text/html": [
       "<div>\n",
       "<style scoped>\n",
       "    .dataframe tbody tr th:only-of-type {\n",
       "        vertical-align: middle;\n",
       "    }\n",
       "\n",
       "    .dataframe tbody tr th {\n",
       "        vertical-align: top;\n",
       "    }\n",
       "\n",
       "    .dataframe thead th {\n",
       "        text-align: right;\n",
       "    }\n",
       "</style>\n",
       "<table border=\"1\" class=\"dataframe\">\n",
       "  <thead>\n",
       "    <tr style=\"text-align: right;\">\n",
       "      <th></th>\n",
       "      <th>impressions</th>\n",
       "      <th>clicks</th>\n",
       "      <th>cost</th>\n",
       "      <th>conversions</th>\n",
       "      <th>revenue</th>\n",
       "    </tr>\n",
       "  </thead>\n",
       "  <tbody>\n",
       "    <tr>\n",
       "      <th>impressions</th>\n",
       "      <td>1.000000</td>\n",
       "      <td>0.987514</td>\n",
       "      <td>0.682811</td>\n",
       "      <td>0.822149</td>\n",
       "      <td>0.759671</td>\n",
       "    </tr>\n",
       "    <tr>\n",
       "      <th>clicks</th>\n",
       "      <td>0.987514</td>\n",
       "      <td>1.000000</td>\n",
       "      <td>0.719925</td>\n",
       "      <td>0.856941</td>\n",
       "      <td>0.798282</td>\n",
       "    </tr>\n",
       "    <tr>\n",
       "      <th>cost</th>\n",
       "      <td>0.682811</td>\n",
       "      <td>0.719925</td>\n",
       "      <td>1.000000</td>\n",
       "      <td>0.672202</td>\n",
       "      <td>0.581662</td>\n",
       "    </tr>\n",
       "    <tr>\n",
       "      <th>conversions</th>\n",
       "      <td>0.822149</td>\n",
       "      <td>0.856941</td>\n",
       "      <td>0.672202</td>\n",
       "      <td>1.000000</td>\n",
       "      <td>0.964096</td>\n",
       "    </tr>\n",
       "    <tr>\n",
       "      <th>revenue</th>\n",
       "      <td>0.759671</td>\n",
       "      <td>0.798282</td>\n",
       "      <td>0.581662</td>\n",
       "      <td>0.964096</td>\n",
       "      <td>1.000000</td>\n",
       "    </tr>\n",
       "  </tbody>\n",
       "</table>\n",
       "</div>"
      ],
      "text/plain": [
       "             impressions    clicks      cost  conversions   revenue\n",
       "impressions     1.000000  0.987514  0.682811     0.822149  0.759671\n",
       "clicks          0.987514  1.000000  0.719925     0.856941  0.798282\n",
       "cost            0.682811  0.719925  1.000000     0.672202  0.581662\n",
       "conversions     0.822149  0.856941  0.672202     1.000000  0.964096\n",
       "revenue         0.759671  0.798282  0.581662     0.964096  1.000000"
      ]
     },
     "execution_count": 51,
     "metadata": {},
     "output_type": "execute_result"
    }
   ],
   "source": [
    "corr=data.corr()\n",
    "corr=pd.DataFrame(corr)\n",
    "corr"
   ]
  },
  {
   "cell_type": "code",
   "execution_count": 52,
   "id": "bfef998a",
   "metadata": {},
   "outputs": [
    {
     "data": {
      "text/plain": [
       "<AxesSubplot:>"
      ]
     },
     "execution_count": 52,
     "metadata": {},
     "output_type": "execute_result"
    },
    {
     "data": {
      "image/png": "[encoded data removed]",
      "text/plain": [
       "<Figure size 432x288 with 2 Axes>"
      ]
     },
     "metadata": {
      "needs_background": "light"
     },
     "output_type": "display_data"
    }
   ],
   "source": [
    "sns.heatmap(corr,annot=True)"
   ]
  },
  {
   "cell_type": "markdown",
   "id": "fed74fe3",
   "metadata": {},
   "source": [
    "### Preprocessing"
   ]
  },
  {
   "cell_type": "code",
   "execution_count": 53,
   "id": "0624551d",
   "metadata": {},
   "outputs": [],
   "source": [
    "data['Con_per_clicks']=data.conversions/data.clicks\n",
    "data['Con_per_impressions']=data.conversions/data.impressions"
   ]
  },
  {
   "cell_type": "code",
   "execution_count": 54,
   "id": "4976dabd",
   "metadata": {},
   "outputs": [],
   "source": [
    "data['Con_per_clicks'].fillna(0, inplace=True)"
   ]
  },
  {
   "cell_type": "code",
   "execution_count": 55,
   "id": "1b0b14db",
   "metadata": {},
   "outputs": [],
   "source": [
    "data=data.drop(['clicks','impressions','cost'],axis=True)"
   ]
  },
  {
   "cell_type": "code",
   "execution_count": 38,
   "id": "786f8260",
   "metadata": {},
   "outputs": [],
   "source": [
    "from sklearn.preprocessing import MinMaxScaler\n",
    "scaler=MinMaxScaler()\n",
    "scaled_data=scaler.fit_transform(data.drop(['adgroup','ad','revenue'],axis=1))\n",
    "scaled_data=pd.DataFrame(scaled_data,columns=['Con_per_clicks','Con_per_impressions','conversions'])\n",
    "data['Con_per_impressions']=scaled_data['Con_per_impressions']\n",
    "data['Con_per_clicks']=scaled_data['Con_per_clicks']\n",
    "data['conversions']=scaled_data['conversions']\n",
    "#data['revenue']=scaled_data['revenue']\n",
    "\n",
    "#from sklearn.preprocessing import StandardScaler\n",
    "#scaler=StandardScaler()\n",
    "#df=scaler.fit_transform(data.drop(['adgroup','ad'],axis=1))\n",
    "#df=pd.DataFrame(df)\n",
    "#data['impressions']=df[0]\n",
    "#data['clicks']=df[1]\n",
    "#data['cost']=df[2]\n",
    "#data['conversions']=df[3]"
   ]
  },
  {
   "cell_type": "code",
   "execution_count": 39,
   "id": "4113774d",
   "metadata": {},
   "outputs": [
    {
     "data": {
      "text/html": [
       "<div>\n",
       "<style scoped>\n",
       "    .dataframe tbody tr th:only-of-type {\n",
       "        vertical-align: middle;\n",
       "    }\n",
       "\n",
       "    .dataframe tbody tr th {\n",
       "        vertical-align: top;\n",
       "    }\n",
       "\n",
       "    .dataframe thead th {\n",
       "        text-align: right;\n",
       "    }\n",
       "</style>\n",
       "<table border=\"1\" class=\"dataframe\">\n",
       "  <thead>\n",
       "    <tr style=\"text-align: right;\">\n",
       "      <th></th>\n",
       "      <th>adgroup</th>\n",
       "      <th>ad</th>\n",
       "      <th>conversions</th>\n",
       "      <th>revenue</th>\n",
       "      <th>Con_per_clicks</th>\n",
       "      <th>Con_per_impressions</th>\n",
       "    </tr>\n",
       "  </thead>\n",
       "  <tbody>\n",
       "    <tr>\n",
       "      <th>0</th>\n",
       "      <td>adgroup 1</td>\n",
       "      <td>ad 1</td>\n",
       "      <td>0.000000</td>\n",
       "      <td>0.00</td>\n",
       "      <td>0.000000</td>\n",
       "      <td>0.000000</td>\n",
       "    </tr>\n",
       "    <tr>\n",
       "      <th>1</th>\n",
       "      <td>adgroup 2</td>\n",
       "      <td>ad 1</td>\n",
       "      <td>0.000000</td>\n",
       "      <td>0.00</td>\n",
       "      <td>0.000000</td>\n",
       "      <td>0.000000</td>\n",
       "    </tr>\n",
       "    <tr>\n",
       "      <th>2</th>\n",
       "      <td>adgroup 3</td>\n",
       "      <td>ad 1</td>\n",
       "      <td>0.000000</td>\n",
       "      <td>0.00</td>\n",
       "      <td>0.000000</td>\n",
       "      <td>0.000000</td>\n",
       "    </tr>\n",
       "    <tr>\n",
       "      <th>3</th>\n",
       "      <td>adgroup 4</td>\n",
       "      <td>ad 1</td>\n",
       "      <td>0.000000</td>\n",
       "      <td>0.00</td>\n",
       "      <td>0.000000</td>\n",
       "      <td>0.000000</td>\n",
       "    </tr>\n",
       "    <tr>\n",
       "      <th>4</th>\n",
       "      <td>adgroup 1</td>\n",
       "      <td>ad 2</td>\n",
       "      <td>0.008097</td>\n",
       "      <td>925.71</td>\n",
       "      <td>0.042553</td>\n",
       "      <td>0.015873</td>\n",
       "    </tr>\n",
       "    <tr>\n",
       "      <th>...</th>\n",
       "      <td>...</td>\n",
       "      <td>...</td>\n",
       "      <td>...</td>\n",
       "      <td>...</td>\n",
       "      <td>...</td>\n",
       "      <td>...</td>\n",
       "    </tr>\n",
       "    <tr>\n",
       "      <th>4566</th>\n",
       "      <td>adgroup 3</td>\n",
       "      <td>ad 55</td>\n",
       "      <td>0.000000</td>\n",
       "      <td>0.00</td>\n",
       "      <td>0.000000</td>\n",
       "      <td>0.000000</td>\n",
       "    </tr>\n",
       "    <tr>\n",
       "      <th>4567</th>\n",
       "      <td>adgroup 4</td>\n",
       "      <td>ad 55</td>\n",
       "      <td>0.000000</td>\n",
       "      <td>0.00</td>\n",
       "      <td>0.000000</td>\n",
       "      <td>0.000000</td>\n",
       "    </tr>\n",
       "    <tr>\n",
       "      <th>4568</th>\n",
       "      <td>adgroup 3</td>\n",
       "      <td>ad 56</td>\n",
       "      <td>0.031250</td>\n",
       "      <td>93.20</td>\n",
       "      <td>0.010638</td>\n",
       "      <td>0.062500</td>\n",
       "    </tr>\n",
       "    <tr>\n",
       "      <th>4569</th>\n",
       "      <td>adgroup 1</td>\n",
       "      <td>ad 56</td>\n",
       "      <td>0.000000</td>\n",
       "      <td>0.00</td>\n",
       "      <td>0.000000</td>\n",
       "      <td>0.000000</td>\n",
       "    </tr>\n",
       "    <tr>\n",
       "      <th>4570</th>\n",
       "      <td>adgroup 1</td>\n",
       "      <td>ad 55</td>\n",
       "      <td>0.000000</td>\n",
       "      <td>0.00</td>\n",
       "      <td>0.000000</td>\n",
       "      <td>0.000000</td>\n",
       "    </tr>\n",
       "  </tbody>\n",
       "</table>\n",
       "<p>4571 rows × 6 columns</p>\n",
       "</div>"
      ],
      "text/plain": [
       "        adgroup     ad  conversions  revenue  Con_per_clicks  \\\n",
       "0     adgroup 1   ad 1     0.000000     0.00        0.000000   \n",
       "1     adgroup 2   ad 1     0.000000     0.00        0.000000   \n",
       "2     adgroup 3   ad 1     0.000000     0.00        0.000000   \n",
       "3     adgroup 4   ad 1     0.000000     0.00        0.000000   \n",
       "4     adgroup 1   ad 2     0.008097   925.71        0.042553   \n",
       "...         ...    ...          ...      ...             ...   \n",
       "4566  adgroup 3  ad 55     0.000000     0.00        0.000000   \n",
       "4567  adgroup 4  ad 55     0.000000     0.00        0.000000   \n",
       "4568  adgroup 3  ad 56     0.031250    93.20        0.010638   \n",
       "4569  adgroup 1  ad 56     0.000000     0.00        0.000000   \n",
       "4570  adgroup 1  ad 55     0.000000     0.00        0.000000   \n",
       "\n",
       "      Con_per_impressions  \n",
       "0                0.000000  \n",
       "1                0.000000  \n",
       "2                0.000000  \n",
       "3                0.000000  \n",
       "4                0.015873  \n",
       "...                   ...  \n",
       "4566             0.000000  \n",
       "4567             0.000000  \n",
       "4568             0.062500  \n",
       "4569             0.000000  \n",
       "4570             0.000000  \n",
       "\n",
       "[4571 rows x 6 columns]"
      ]
     },
     "execution_count": 39,
     "metadata": {},
     "output_type": "execute_result"
    }
   ],
   "source": [
    "data"
   ]
  },
  {
   "cell_type": "code",
   "execution_count": 21,
   "id": "54bbec0b",
   "metadata": {},
   "outputs": [
    {
     "data": {
      "text/html": [
       "<div>\n",
       "<style scoped>\n",
       "    .dataframe tbody tr th:only-of-type {\n",
       "        vertical-align: middle;\n",
       "    }\n",
       "\n",
       "    .dataframe tbody tr th {\n",
       "        vertical-align: top;\n",
       "    }\n",
       "\n",
       "    .dataframe thead th {\n",
       "        text-align: right;\n",
       "    }\n",
       "</style>\n",
       "<table border=\"1\" class=\"dataframe\">\n",
       "  <thead>\n",
       "    <tr style=\"text-align: right;\">\n",
       "      <th></th>\n",
       "      <th>adgroup</th>\n",
       "      <th>ad</th>\n",
       "      <th>conversions</th>\n",
       "      <th>revenue</th>\n",
       "      <th>Con_per_clicks</th>\n",
       "      <th>Con_per_impressions</th>\n",
       "    </tr>\n",
       "  </thead>\n",
       "  <tbody>\n",
       "    <tr>\n",
       "      <th>0</th>\n",
       "      <td>adgroup 1</td>\n",
       "      <td>ad 1</td>\n",
       "      <td>0.0</td>\n",
       "      <td>0.0</td>\n",
       "      <td>0.0</td>\n",
       "      <td>0.0</td>\n",
       "    </tr>\n",
       "    <tr>\n",
       "      <th>1</th>\n",
       "      <td>adgroup 2</td>\n",
       "      <td>ad 1</td>\n",
       "      <td>0.0</td>\n",
       "      <td>0.0</td>\n",
       "      <td>0.0</td>\n",
       "      <td>0.0</td>\n",
       "    </tr>\n",
       "    <tr>\n",
       "      <th>2</th>\n",
       "      <td>adgroup 3</td>\n",
       "      <td>ad 1</td>\n",
       "      <td>0.0</td>\n",
       "      <td>0.0</td>\n",
       "      <td>0.0</td>\n",
       "      <td>0.0</td>\n",
       "    </tr>\n",
       "    <tr>\n",
       "      <th>3</th>\n",
       "      <td>adgroup 4</td>\n",
       "      <td>ad 1</td>\n",
       "      <td>0.0</td>\n",
       "      <td>0.0</td>\n",
       "      <td>0.0</td>\n",
       "      <td>0.0</td>\n",
       "    </tr>\n",
       "    <tr>\n",
       "      <th>4</th>\n",
       "      <td>adgroup 2</td>\n",
       "      <td>ad 2</td>\n",
       "      <td>0.0</td>\n",
       "      <td>0.0</td>\n",
       "      <td>0.0</td>\n",
       "      <td>0.0</td>\n",
       "    </tr>\n",
       "    <tr>\n",
       "      <th>...</th>\n",
       "      <td>...</td>\n",
       "      <td>...</td>\n",
       "      <td>...</td>\n",
       "      <td>...</td>\n",
       "      <td>...</td>\n",
       "      <td>...</td>\n",
       "    </tr>\n",
       "    <tr>\n",
       "      <th>3480</th>\n",
       "      <td>adgroup 1</td>\n",
       "      <td>ad 10</td>\n",
       "      <td>0.0</td>\n",
       "      <td>0.0</td>\n",
       "      <td>0.0</td>\n",
       "      <td>0.0</td>\n",
       "    </tr>\n",
       "    <tr>\n",
       "      <th>3481</th>\n",
       "      <td>adgroup 3</td>\n",
       "      <td>ad 55</td>\n",
       "      <td>0.0</td>\n",
       "      <td>0.0</td>\n",
       "      <td>0.0</td>\n",
       "      <td>0.0</td>\n",
       "    </tr>\n",
       "    <tr>\n",
       "      <th>3482</th>\n",
       "      <td>adgroup 4</td>\n",
       "      <td>ad 55</td>\n",
       "      <td>0.0</td>\n",
       "      <td>0.0</td>\n",
       "      <td>0.0</td>\n",
       "      <td>0.0</td>\n",
       "    </tr>\n",
       "    <tr>\n",
       "      <th>3483</th>\n",
       "      <td>adgroup 1</td>\n",
       "      <td>ad 56</td>\n",
       "      <td>0.0</td>\n",
       "      <td>0.0</td>\n",
       "      <td>0.0</td>\n",
       "      <td>0.0</td>\n",
       "    </tr>\n",
       "    <tr>\n",
       "      <th>3484</th>\n",
       "      <td>adgroup 1</td>\n",
       "      <td>ad 55</td>\n",
       "      <td>0.0</td>\n",
       "      <td>0.0</td>\n",
       "      <td>0.0</td>\n",
       "      <td>0.0</td>\n",
       "    </tr>\n",
       "  </tbody>\n",
       "</table>\n",
       "<p>3485 rows × 6 columns</p>\n",
       "</div>"
      ],
      "text/plain": [
       "        adgroup     ad  conversions  revenue  Con_per_clicks  \\\n",
       "0     adgroup 1   ad 1          0.0      0.0             0.0   \n",
       "1     adgroup 2   ad 1          0.0      0.0             0.0   \n",
       "2     adgroup 3   ad 1          0.0      0.0             0.0   \n",
       "3     adgroup 4   ad 1          0.0      0.0             0.0   \n",
       "4     adgroup 2   ad 2          0.0      0.0             0.0   \n",
       "...         ...    ...          ...      ...             ...   \n",
       "3480  adgroup 1  ad 10          0.0      0.0             0.0   \n",
       "3481  adgroup 3  ad 55          0.0      0.0             0.0   \n",
       "3482  adgroup 4  ad 55          0.0      0.0             0.0   \n",
       "3483  adgroup 1  ad 56          0.0      0.0             0.0   \n",
       "3484  adgroup 1  ad 55          0.0      0.0             0.0   \n",
       "\n",
       "      Con_per_impressions  \n",
       "0                     0.0  \n",
       "1                     0.0  \n",
       "2                     0.0  \n",
       "3                     0.0  \n",
       "4                     0.0  \n",
       "...                   ...  \n",
       "3480                  0.0  \n",
       "3481                  0.0  \n",
       "3482                  0.0  \n",
       "3483                  0.0  \n",
       "3484                  0.0  \n",
       "\n",
       "[3485 rows x 6 columns]"
      ]
     },
     "execution_count": 21,
     "metadata": {},
     "output_type": "execute_result"
    }
   ],
   "source": [
    "data"
   ]
  },
  {
   "cell_type": "code",
   "execution_count": 23,
   "id": "eaae3707",
   "metadata": {},
   "outputs": [
    {
     "name": "stderr",
     "output_type": "stream",
     "text": [
      "F:\\softwares\\Anaconda\\lib\\site-packages\\sklearn\\utils\\validation.py:63: DataConversionWarning: A column-vector y was passed when a 1d array was expected. Please change the shape of y to (n_samples, ), for example using ravel().\n",
      "  return f(*args, **kwargs)\n"
     ]
    }
   ],
   "source": [
    "from sklearn.preprocessing import LabelEncoder\n",
    "\n",
    "encoder=LabelEncoder()\n",
    "ad=pd.DataFrame(data['ad'])\n",
    "adgroup=pd.DataFrame(data['adgroup'])\n",
    "\n",
    "en_ad=encoder.fit_transform(ad)\n",
    "en_adgrp=encoder.fit_transform(adgroup)"
   ]
  },
  {
   "cell_type": "code",
   "execution_count": 24,
   "id": "0f894c06",
   "metadata": {},
   "outputs": [],
   "source": [
    "data['ad']=en_ad\n",
    "data['adgroup']=en_adgrp"
   ]
  },
  {
   "cell_type": "code",
   "execution_count": 25,
   "id": "6090165e",
   "metadata": {},
   "outputs": [
    {
     "data": {
      "text/plain": [
       "adgroup                0\n",
       "ad                     0\n",
       "conversions            0\n",
       "revenue                0\n",
       "Con_per_clicks         0\n",
       "Con_per_impressions    0\n",
       "dtype: int64"
      ]
     },
     "execution_count": 25,
     "metadata": {},
     "output_type": "execute_result"
    }
   ],
   "source": [
    "data.isna().sum()"
   ]
  },
  {
   "cell_type": "code",
   "execution_count": 26,
   "id": "42f1904d",
   "metadata": {},
   "outputs": [
    {
     "data": {
      "text/html": [
       "<div>\n",
       "<style scoped>\n",
       "    .dataframe tbody tr th:only-of-type {\n",
       "        vertical-align: middle;\n",
       "    }\n",
       "\n",
       "    .dataframe tbody tr th {\n",
       "        vertical-align: top;\n",
       "    }\n",
       "\n",
       "    .dataframe thead th {\n",
       "        text-align: right;\n",
       "    }\n",
       "</style>\n",
       "<table border=\"1\" class=\"dataframe\">\n",
       "  <thead>\n",
       "    <tr style=\"text-align: right;\">\n",
       "      <th></th>\n",
       "      <th>adgroup</th>\n",
       "      <th>ad</th>\n",
       "      <th>conversions</th>\n",
       "      <th>revenue</th>\n",
       "      <th>Con_per_clicks</th>\n",
       "      <th>Con_per_impressions</th>\n",
       "    </tr>\n",
       "  </thead>\n",
       "  <tbody>\n",
       "    <tr>\n",
       "      <th>adgroup</th>\n",
       "      <td>1.000000</td>\n",
       "      <td>0.036228</td>\n",
       "      <td>0.028122</td>\n",
       "      <td>-0.080923</td>\n",
       "      <td>-0.101866</td>\n",
       "      <td>0.003038</td>\n",
       "    </tr>\n",
       "    <tr>\n",
       "      <th>ad</th>\n",
       "      <td>0.036228</td>\n",
       "      <td>1.000000</td>\n",
       "      <td>-0.013952</td>\n",
       "      <td>-0.019585</td>\n",
       "      <td>-0.009507</td>\n",
       "      <td>-0.015294</td>\n",
       "    </tr>\n",
       "    <tr>\n",
       "      <th>conversions</th>\n",
       "      <td>0.028122</td>\n",
       "      <td>-0.013952</td>\n",
       "      <td>1.000000</td>\n",
       "      <td>0.089217</td>\n",
       "      <td>0.105414</td>\n",
       "      <td>0.872771</td>\n",
       "    </tr>\n",
       "    <tr>\n",
       "      <th>revenue</th>\n",
       "      <td>-0.080923</td>\n",
       "      <td>-0.019585</td>\n",
       "      <td>0.089217</td>\n",
       "      <td>1.000000</td>\n",
       "      <td>0.964096</td>\n",
       "      <td>0.108329</td>\n",
       "    </tr>\n",
       "    <tr>\n",
       "      <th>Con_per_clicks</th>\n",
       "      <td>-0.101866</td>\n",
       "      <td>-0.009507</td>\n",
       "      <td>0.105414</td>\n",
       "      <td>0.964096</td>\n",
       "      <td>1.000000</td>\n",
       "      <td>0.127658</td>\n",
       "    </tr>\n",
       "    <tr>\n",
       "      <th>Con_per_impressions</th>\n",
       "      <td>0.003038</td>\n",
       "      <td>-0.015294</td>\n",
       "      <td>0.872771</td>\n",
       "      <td>0.108329</td>\n",
       "      <td>0.127658</td>\n",
       "      <td>1.000000</td>\n",
       "    </tr>\n",
       "  </tbody>\n",
       "</table>\n",
       "</div>"
      ],
      "text/plain": [
       "                      adgroup        ad  conversions   revenue  \\\n",
       "adgroup              1.000000  0.036228     0.028122 -0.080923   \n",
       "ad                   0.036228  1.000000    -0.013952 -0.019585   \n",
       "conversions          0.028122 -0.013952     1.000000  0.089217   \n",
       "revenue             -0.080923 -0.019585     0.089217  1.000000   \n",
       "Con_per_clicks      -0.101866 -0.009507     0.105414  0.964096   \n",
       "Con_per_impressions  0.003038 -0.015294     0.872771  0.108329   \n",
       "\n",
       "                     Con_per_clicks  Con_per_impressions  \n",
       "adgroup                   -0.101866             0.003038  \n",
       "ad                        -0.009507            -0.015294  \n",
       "conversions                0.105414             0.872771  \n",
       "revenue                    0.964096             0.108329  \n",
       "Con_per_clicks             1.000000             0.127658  \n",
       "Con_per_impressions        0.127658             1.000000  "
      ]
     },
     "execution_count": 26,
     "metadata": {},
     "output_type": "execute_result"
    }
   ],
   "source": [
    "corr=data.corr()\n",
    "corr"
   ]
  },
  {
   "cell_type": "code",
   "execution_count": 27,
   "id": "738fb585",
   "metadata": {},
   "outputs": [
    {
     "data": {
      "text/plain": [
       "(4571, 6)"
      ]
     },
     "execution_count": 27,
     "metadata": {},
     "output_type": "execute_result"
    }
   ],
   "source": [
    "data.shape[:]"
   ]
  },
  {
   "cell_type": "code",
   "execution_count": 28,
   "id": "4e59883b",
   "metadata": {},
   "outputs": [],
   "source": [
    "from sklearn.model_selection import train_test_split\n",
    "x=data.drop(['revenue'],axis=1)\n",
    "y=data['revenue']\n",
    "\n",
    "x_train,x_test,y_train,y_test=train_test_split(x,y,test_size=0.25,random_state=300)"
   ]
  },
  {
   "cell_type": "code",
   "execution_count": 29,
   "id": "0610e46b",
   "metadata": {},
   "outputs": [
    {
     "data": {
      "text/html": [
       "<div>\n",
       "<style scoped>\n",
       "    .dataframe tbody tr th:only-of-type {\n",
       "        vertical-align: middle;\n",
       "    }\n",
       "\n",
       "    .dataframe tbody tr th {\n",
       "        vertical-align: top;\n",
       "    }\n",
       "\n",
       "    .dataframe thead th {\n",
       "        text-align: right;\n",
       "    }\n",
       "</style>\n",
       "<table border=\"1\" class=\"dataframe\">\n",
       "  <thead>\n",
       "    <tr style=\"text-align: right;\">\n",
       "      <th></th>\n",
       "      <th>adgroup</th>\n",
       "      <th>ad</th>\n",
       "      <th>conversions</th>\n",
       "      <th>Con_per_clicks</th>\n",
       "      <th>Con_per_impressions</th>\n",
       "    </tr>\n",
       "  </thead>\n",
       "  <tbody>\n",
       "    <tr>\n",
       "      <th>count</th>\n",
       "      <td>3428.000000</td>\n",
       "      <td>3428.000000</td>\n",
       "      <td>3428.000000</td>\n",
       "      <td>3428.000000</td>\n",
       "      <td>3428.000000</td>\n",
       "    </tr>\n",
       "    <tr>\n",
       "      <th>mean</th>\n",
       "      <td>1.468495</td>\n",
       "      <td>29.957410</td>\n",
       "      <td>0.005263</td>\n",
       "      <td>0.014080</td>\n",
       "      <td>0.010692</td>\n",
       "    </tr>\n",
       "    <tr>\n",
       "      <th>std</th>\n",
       "      <td>1.101713</td>\n",
       "      <td>23.050672</td>\n",
       "      <td>0.024830</td>\n",
       "      <td>0.054078</td>\n",
       "      <td>0.039590</td>\n",
       "    </tr>\n",
       "    <tr>\n",
       "      <th>min</th>\n",
       "      <td>0.000000</td>\n",
       "      <td>0.000000</td>\n",
       "      <td>0.000000</td>\n",
       "      <td>0.000000</td>\n",
       "      <td>0.000000</td>\n",
       "    </tr>\n",
       "    <tr>\n",
       "      <th>25%</th>\n",
       "      <td>0.000000</td>\n",
       "      <td>11.000000</td>\n",
       "      <td>0.000000</td>\n",
       "      <td>0.000000</td>\n",
       "      <td>0.000000</td>\n",
       "    </tr>\n",
       "    <tr>\n",
       "      <th>50%</th>\n",
       "      <td>2.000000</td>\n",
       "      <td>25.000000</td>\n",
       "      <td>0.000000</td>\n",
       "      <td>0.000000</td>\n",
       "      <td>0.000000</td>\n",
       "    </tr>\n",
       "    <tr>\n",
       "      <th>75%</th>\n",
       "      <td>2.000000</td>\n",
       "      <td>51.000000</td>\n",
       "      <td>0.003610</td>\n",
       "      <td>0.010638</td>\n",
       "      <td>0.007767</td>\n",
       "    </tr>\n",
       "    <tr>\n",
       "      <th>max</th>\n",
       "      <td>3.000000</td>\n",
       "      <td>69.000000</td>\n",
       "      <td>1.000000</td>\n",
       "      <td>0.968085</td>\n",
       "      <td>1.000000</td>\n",
       "    </tr>\n",
       "  </tbody>\n",
       "</table>\n",
       "</div>"
      ],
      "text/plain": [
       "           adgroup           ad  conversions  Con_per_clicks  \\\n",
       "count  3428.000000  3428.000000  3428.000000     3428.000000   \n",
       "mean      1.468495    29.957410     0.005263        0.014080   \n",
       "std       1.101713    23.050672     0.024830        0.054078   \n",
       "min       0.000000     0.000000     0.000000        0.000000   \n",
       "25%       0.000000    11.000000     0.000000        0.000000   \n",
       "50%       2.000000    25.000000     0.000000        0.000000   \n",
       "75%       2.000000    51.000000     0.003610        0.010638   \n",
       "max       3.000000    69.000000     1.000000        0.968085   \n",
       "\n",
       "       Con_per_impressions  \n",
       "count          3428.000000  \n",
       "mean              0.010692  \n",
       "std               0.039590  \n",
       "min               0.000000  \n",
       "25%               0.000000  \n",
       "50%               0.000000  \n",
       "75%               0.007767  \n",
       "max               1.000000  "
      ]
     },
     "execution_count": 29,
     "metadata": {},
     "output_type": "execute_result"
    }
   ],
   "source": [
    "x_train.describe()"
   ]
  },
  {
   "cell_type": "code",
   "execution_count": 30,
   "id": "694f8465",
   "metadata": {},
   "outputs": [],
   "source": [
    "from xgboost import XGBRegressor\n",
    "from sklearn.ensemble import RandomForestRegressor\n",
    "from sklearn.tree import DecisionTreeRegressor\n",
    "from sklearn.ensemble import GradientBoostingRegressor, AdaBoostRegressor\n",
    "\n",
    "\n",
    "#reg=XGBRegressor()\n",
    "#reg=RandomForestRegressor()\n",
    "#reg=DecisionTreeRegressor(criterion = \"mse\", max_depth = 6, max_features = \"auto\", min_samples_split = 2, splitter = \"best\", random_state = 0)\n",
    "reg=GradientBoostingRegressor()\n",
    "#reg=AdaBoostRegressor()\n",
    "#reg=LGMBRegressor()"
   ]
  },
  {
   "cell_type": "code",
   "execution_count": 31,
   "id": "55a5041b",
   "metadata": {},
   "outputs": [
    {
     "data": {
      "text/plain": [
       "GradientBoostingRegressor()"
      ]
     },
     "execution_count": 31,
     "metadata": {},
     "output_type": "execute_result"
    }
   ],
   "source": [
    "reg.fit(x_train,y_train)"
   ]
  },
  {
   "cell_type": "code",
   "execution_count": 32,
   "id": "932bbaca",
   "metadata": {},
   "outputs": [
    {
     "name": "stdout",
     "output_type": "stream",
     "text": [
      "0.9873221624967378\n",
      "0.9537723778084392\n"
     ]
    }
   ],
   "source": [
    "print(reg.score(x_train,y_train))\n",
    "print(reg.score(x_test,y_test))"
   ]
  },
  {
   "cell_type": "code",
   "execution_count": 33,
   "id": "149977ee",
   "metadata": {},
   "outputs": [],
   "source": [
    "pred=reg.predict(x_test)\n",
    "pred=pd.DataFrame(pred)"
   ]
  },
  {
   "cell_type": "code",
   "execution_count": 34,
   "id": "9dcb4635",
   "metadata": {},
   "outputs": [
    {
     "name": "stdout",
     "output_type": "stream",
     "text": [
      "59993.19252835956\n",
      "0.9537723778084392\n"
     ]
    }
   ],
   "source": [
    "from sklearn.metrics import mean_squared_error,r2_score\n",
    "print(mean_squared_error(y_test,pred))\n",
    "print(r2_score(y_test,pred))"
   ]
  },
  {
   "cell_type": "code",
   "execution_count": 35,
   "id": "60e687ff",
   "metadata": {},
   "outputs": [],
   "source": [
    "#pred=pred.transform(lambda x: (x*(max_value - min_value)) + min_value)"
   ]
  },
  {
   "cell_type": "code",
   "execution_count": 36,
   "id": "d1dd2148",
   "metadata": {},
   "outputs": [],
   "source": [
    "#y_test=pd.DataFrame(y_test)\n",
    "#y_test=y_test.transform(lambda x: (x*(max_value - min_value)) + min_value)"
   ]
  },
  {
   "cell_type": "code",
   "execution_count": 37,
   "id": "7ebdb98b",
   "metadata": {},
   "outputs": [
    {
     "data": {
      "text/plain": [
       "244.9350781908536"
      ]
     },
     "execution_count": 37,
     "metadata": {},
     "output_type": "execute_result"
    }
   ],
   "source": [
    "np.sqrt(mean_squared_error(y_test,pred))"
   ]
  },
  {
   "cell_type": "code",
   "execution_count": 166,
   "id": "e00eaf80",
   "metadata": {},
   "outputs": [
    {
     "data": {
      "text/html": [
       "<div>\n",
       "<style scoped>\n",
       "    .dataframe tbody tr th:only-of-type {\n",
       "        vertical-align: middle;\n",
       "    }\n",
       "\n",
       "    .dataframe tbody tr th {\n",
       "        vertical-align: top;\n",
       "    }\n",
       "\n",
       "    .dataframe thead th {\n",
       "        text-align: right;\n",
       "    }\n",
       "</style>\n",
       "<table border=\"1\" class=\"dataframe\">\n",
       "  <thead>\n",
       "    <tr style=\"text-align: right;\">\n",
       "      <th></th>\n",
       "      <th>0</th>\n",
       "    </tr>\n",
       "  </thead>\n",
       "  <tbody>\n",
       "    <tr>\n",
       "      <th>0</th>\n",
       "      <td>0.751423</td>\n",
       "    </tr>\n",
       "    <tr>\n",
       "      <th>1</th>\n",
       "      <td>330.073243</td>\n",
       "    </tr>\n",
       "    <tr>\n",
       "      <th>2</th>\n",
       "      <td>1.614397</td>\n",
       "    </tr>\n",
       "    <tr>\n",
       "      <th>3</th>\n",
       "      <td>148.462443</td>\n",
       "    </tr>\n",
       "    <tr>\n",
       "      <th>4</th>\n",
       "      <td>182.161784</td>\n",
       "    </tr>\n",
       "    <tr>\n",
       "      <th>...</th>\n",
       "      <td>...</td>\n",
       "    </tr>\n",
       "    <tr>\n",
       "      <th>1138</th>\n",
       "      <td>1.042800</td>\n",
       "    </tr>\n",
       "    <tr>\n",
       "      <th>1139</th>\n",
       "      <td>2.143106</td>\n",
       "    </tr>\n",
       "    <tr>\n",
       "      <th>1140</th>\n",
       "      <td>144.193424</td>\n",
       "    </tr>\n",
       "    <tr>\n",
       "      <th>1141</th>\n",
       "      <td>1.723241</td>\n",
       "    </tr>\n",
       "    <tr>\n",
       "      <th>1142</th>\n",
       "      <td>4.941096</td>\n",
       "    </tr>\n",
       "  </tbody>\n",
       "</table>\n",
       "<p>1143 rows × 1 columns</p>\n",
       "</div>"
      ],
      "text/plain": [
       "               0\n",
       "0       0.751423\n",
       "1     330.073243\n",
       "2       1.614397\n",
       "3     148.462443\n",
       "4     182.161784\n",
       "...          ...\n",
       "1138    1.042800\n",
       "1139    2.143106\n",
       "1140  144.193424\n",
       "1141    1.723241\n",
       "1142    4.941096\n",
       "\n",
       "[1143 rows x 1 columns]"
      ]
     },
     "execution_count": 166,
     "metadata": {},
     "output_type": "execute_result"
    }
   ],
   "source": [
    "pred"
   ]
  },
  {
   "cell_type": "code",
   "execution_count": 157,
   "id": "08377fb4",
   "metadata": {},
   "outputs": [
    {
     "data": {
      "text/plain": [
       "2693      0.00\n",
       "865     847.72\n",
       "1514      0.00\n",
       "3778    114.00\n",
       "102     298.66\n",
       "         ...  \n",
       "2355      0.00\n",
       "1113      0.00\n",
       "1310    186.00\n",
       "560       0.00\n",
       "615       0.00\n",
       "Name: revenue, Length: 1143, dtype: float64"
      ]
     },
     "execution_count": 157,
     "metadata": {},
     "output_type": "execute_result"
    }
   ],
   "source": [
    "y_test"
   ]
  },
  {
   "cell_type": "code",
   "execution_count": 168,
   "id": "53ea0e5f",
   "metadata": {},
   "outputs": [],
   "source": [
    "pred.loc[pred[0] < 5]=0"
   ]
  },
  {
   "cell_type": "code",
   "execution_count": 169,
   "id": "d0be3b44",
   "metadata": {},
   "outputs": [
    {
     "data": {
      "text/html": [
       "<div>\n",
       "<style scoped>\n",
       "    .dataframe tbody tr th:only-of-type {\n",
       "        vertical-align: middle;\n",
       "    }\n",
       "\n",
       "    .dataframe tbody tr th {\n",
       "        vertical-align: top;\n",
       "    }\n",
       "\n",
       "    .dataframe thead th {\n",
       "        text-align: right;\n",
       "    }\n",
       "</style>\n",
       "<table border=\"1\" class=\"dataframe\">\n",
       "  <thead>\n",
       "    <tr style=\"text-align: right;\">\n",
       "      <th></th>\n",
       "      <th>0</th>\n",
       "    </tr>\n",
       "  </thead>\n",
       "  <tbody>\n",
       "    <tr>\n",
       "      <th>0</th>\n",
       "      <td>0.000000</td>\n",
       "    </tr>\n",
       "    <tr>\n",
       "      <th>1</th>\n",
       "      <td>330.073243</td>\n",
       "    </tr>\n",
       "    <tr>\n",
       "      <th>2</th>\n",
       "      <td>0.000000</td>\n",
       "    </tr>\n",
       "    <tr>\n",
       "      <th>3</th>\n",
       "      <td>148.462443</td>\n",
       "    </tr>\n",
       "    <tr>\n",
       "      <th>4</th>\n",
       "      <td>182.161784</td>\n",
       "    </tr>\n",
       "    <tr>\n",
       "      <th>...</th>\n",
       "      <td>...</td>\n",
       "    </tr>\n",
       "    <tr>\n",
       "      <th>1138</th>\n",
       "      <td>0.000000</td>\n",
       "    </tr>\n",
       "    <tr>\n",
       "      <th>1139</th>\n",
       "      <td>0.000000</td>\n",
       "    </tr>\n",
       "    <tr>\n",
       "      <th>1140</th>\n",
       "      <td>144.193424</td>\n",
       "    </tr>\n",
       "    <tr>\n",
       "      <th>1141</th>\n",
       "      <td>0.000000</td>\n",
       "    </tr>\n",
       "    <tr>\n",
       "      <th>1142</th>\n",
       "      <td>0.000000</td>\n",
       "    </tr>\n",
       "  </tbody>\n",
       "</table>\n",
       "<p>1143 rows × 1 columns</p>\n",
       "</div>"
      ],
      "text/plain": [
       "               0\n",
       "0       0.000000\n",
       "1     330.073243\n",
       "2       0.000000\n",
       "3     148.462443\n",
       "4     182.161784\n",
       "...          ...\n",
       "1138    0.000000\n",
       "1139    0.000000\n",
       "1140  144.193424\n",
       "1141    0.000000\n",
       "1142    0.000000\n",
       "\n",
       "[1143 rows x 1 columns]"
      ]
     },
     "execution_count": 169,
     "metadata": {},
     "output_type": "execute_result"
    }
   ],
   "source": [
    "pred"
   ]
  },
  {
   "cell_type": "code",
   "execution_count": 170,
   "id": "07c68668",
   "metadata": {},
   "outputs": [
    {
     "data": {
      "text/plain": [
       "243.88464250081688"
      ]
     },
     "execution_count": 170,
     "metadata": {},
     "output_type": "execute_result"
    }
   ],
   "source": [
    "np.sqrt(mean_squared_error(y_test,pred))"
   ]
  },
  {
   "cell_type": "code",
   "execution_count": null,
   "id": "ec19afb1",
   "metadata": {},
   "outputs": [],
   "source": []
  }
 ],
 "metadata": {
  "kernelspec": {
   "display_name": "Python 3",
   "language": "python",
   "name": "python3"
  },
  "language_info": {
   "codemirror_mode": {
    "name": "ipython",
    "version": 3
   },
   "file_extension": ".py",
   "mimetype": "text/x-python",
   "name": "python",
   "nbconvert_exporter": "python",
   "pygments_lexer": "ipython3",
   "version": "3.8.8"
  }
 },
 "nbformat": 4,
 "nbformat_minor": 5
}
